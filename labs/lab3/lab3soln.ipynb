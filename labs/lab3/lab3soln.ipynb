{
 "metadata": {
  "name": "",
  "signature": "sha256:76b1f0da9854ed8bfaa7db4fbcd9ecd6f5ca68641cb47a134db492def154403d"
 },
 "nbformat": 3,
 "nbformat_minor": 0,
 "worksheets": [
  {
   "cells": [
    {
     "cell_type": "markdown",
     "metadata": {},
     "source": [
      "##M3C 2016 Lab 3"
     ]
    },
    {
     "cell_type": "markdown",
     "metadata": {},
     "source": [
      "###Task 1: Implement a Gaussian Function\n",
      "1)Make a Python function *gauss*( *x*, *m*=0, *s*=1) for computing the Gaussian function \n",
      "$$f(x)=\\frac{1}{\\sqrt{2\\pi}s}\\exp\\left(-\\frac{1}{2} \\left(\\frac{x-m}{s}\\right)^2\\right)$$\n"
     ]
    },
    {
     "cell_type": "code",
     "collapsed": false,
     "input": [
      "#run this cell 1st\n",
      "%pylab inline"
     ],
     "language": "python",
     "metadata": {},
     "outputs": [
      {
       "output_type": "stream",
       "stream": "stdout",
       "text": [
        "Populating the interactive namespace from numpy and matplotlib\n"
       ]
      }
     ],
     "prompt_number": 1
    },
    {
     "cell_type": "code",
     "collapsed": false,
     "input": [
      "def gauss(x,m=0,s=1):\n",
      "    A = 1.0/(sqrt(2*pi)*s)\n",
      "    arg = -0.5*(((x-m)/s)**2)\n",
      "    return A*exp(arg)"
     ],
     "language": "python",
     "metadata": {},
     "outputs": [],
     "prompt_number": 5
    },
    {
     "cell_type": "markdown",
     "metadata": {},
     "source": [
      "2) Generate an array, *x*, equal to \u22125, \u22124.9, \u22124.8, ..., 4.8, 4.9, 5"
     ]
    },
    {
     "cell_type": "code",
     "collapsed": false,
     "input": [
      "x = arange(-5,5.1,0.1)\n",
      "print x"
     ],
     "language": "python",
     "metadata": {},
     "outputs": [
      {
       "output_type": "stream",
       "stream": "stdout",
       "text": [
        "[ -5.00000000e+00  -4.90000000e+00  -4.80000000e+00  -4.70000000e+00\n",
        "  -4.60000000e+00  -4.50000000e+00  -4.40000000e+00  -4.30000000e+00\n",
        "  -4.20000000e+00  -4.10000000e+00  -4.00000000e+00  -3.90000000e+00\n",
        "  -3.80000000e+00  -3.70000000e+00  -3.60000000e+00  -3.50000000e+00\n",
        "  -3.40000000e+00  -3.30000000e+00  -3.20000000e+00  -3.10000000e+00\n",
        "  -3.00000000e+00  -2.90000000e+00  -2.80000000e+00  -2.70000000e+00\n",
        "  -2.60000000e+00  -2.50000000e+00  -2.40000000e+00  -2.30000000e+00\n",
        "  -2.20000000e+00  -2.10000000e+00  -2.00000000e+00  -1.90000000e+00\n",
        "  -1.80000000e+00  -1.70000000e+00  -1.60000000e+00  -1.50000000e+00\n",
        "  -1.40000000e+00  -1.30000000e+00  -1.20000000e+00  -1.10000000e+00\n",
        "  -1.00000000e+00  -9.00000000e-01  -8.00000000e-01  -7.00000000e-01\n",
        "  -6.00000000e-01  -5.00000000e-01  -4.00000000e-01  -3.00000000e-01\n",
        "  -2.00000000e-01  -1.00000000e-01  -1.77635684e-14   1.00000000e-01\n",
        "   2.00000000e-01   3.00000000e-01   4.00000000e-01   5.00000000e-01\n",
        "   6.00000000e-01   7.00000000e-01   8.00000000e-01   9.00000000e-01\n",
        "   1.00000000e+00   1.10000000e+00   1.20000000e+00   1.30000000e+00\n",
        "   1.40000000e+00   1.50000000e+00   1.60000000e+00   1.70000000e+00\n",
        "   1.80000000e+00   1.90000000e+00   2.00000000e+00   2.10000000e+00\n",
        "   2.20000000e+00   2.30000000e+00   2.40000000e+00   2.50000000e+00\n",
        "   2.60000000e+00   2.70000000e+00   2.80000000e+00   2.90000000e+00\n",
        "   3.00000000e+00   3.10000000e+00   3.20000000e+00   3.30000000e+00\n",
        "   3.40000000e+00   3.50000000e+00   3.60000000e+00   3.70000000e+00\n",
        "   3.80000000e+00   3.90000000e+00   4.00000000e+00   4.10000000e+00\n",
        "   4.20000000e+00   4.30000000e+00   4.40000000e+00   4.50000000e+00\n",
        "   4.60000000e+00   4.70000000e+00   4.80000000e+00   4.90000000e+00\n",
        "   5.00000000e+00]\n"
       ]
      }
     ],
     "prompt_number": 2
    },
    {
     "cell_type": "markdown",
     "metadata": {},
     "source": [
      "3) Finally, call *gauss* with *x* as input and using the default values for *m* and *s*. Store the output from the \n",
      "function in an array, *f*."
     ]
    },
    {
     "cell_type": "code",
     "collapsed": false,
     "input": [
      "f = gauss(x)"
     ],
     "language": "python",
     "metadata": {},
     "outputs": [],
     "prompt_number": 6
    },
    {
     "cell_type": "code",
     "collapsed": false,
     "input": [
      "#if x and f have been created correctly, a gaussian will be plotted here when this cell is executed\n",
      "figure()\n",
      "plot(x,f)\n",
      "xlabel('x')\n",
      "ylabel('f(x)')"
     ],
     "language": "python",
     "metadata": {},
     "outputs": [
      {
       "metadata": {},
       "output_type": "pyout",
       "prompt_number": 7,
       "text": [
        "<matplotlib.text.Text at 0x10b8486d0>"
       ]
      },
      {
       "metadata": {},
       "output_type": "display_data",
       "png": "[encoded data removed]",
       "text": [
        "<matplotlib.figure.Figure at 0x10b81f810>"
       ]
      }
     ],
     "prompt_number": 7
    },
    {
     "cell_type": "markdown",
     "metadata": {},
     "source": [
      "###Task 2: Linear algebra with numpy\n",
      "***\n",
      "<img src=\"http://cmse.bitbucket.org/python/figures/numpy_indexing.png\">"
     ]
    },
    {
     "cell_type": "markdown",
     "metadata": {},
     "source": [
      "1) Create a matrix, $M$ corresponding to the picture above:"
     ]
    },
    {
     "cell_type": "code",
     "collapsed": false,
     "input": [
      "M = empty((6,6))\n",
      "row = arange(0,6)\n",
      "for i in range(6):\n",
      "    M[i,:] = row+10*i\n",
      "print M"
     ],
     "language": "python",
     "metadata": {},
     "outputs": [
      {
       "output_type": "stream",
       "stream": "stdout",
       "text": [
        "[[  0.   1.   2.   3.   4.   5.]\n",
        " [ 10.  11.  12.  13.  14.  15.]\n",
        " [ 20.  21.  22.  23.  24.  25.]\n",
        " [ 30.  31.  32.  33.  34.  35.]\n",
        " [ 40.  41.  42.  43.  44.  45.]\n",
        " [ 50.  51.  52.  53.  54.  55.]]\n"
       ]
      }
     ],
     "prompt_number": 12
    },
    {
     "cell_type": "markdown",
     "metadata": {},
     "source": [
      "2) Create arrays or matrices corresponding to the elements in M enclosed in a) red, b) orange, c) cyan, and d) green:"
     ]
    },
    {
     "cell_type": "code",
     "collapsed": false,
     "input": [
      "red = M[:,2]\n",
      "print red"
     ],
     "language": "python",
     "metadata": {},
     "outputs": [
      {
       "output_type": "stream",
       "stream": "stdout",
       "text": [
        "[  2.  12.  22.  32.  42.  52.]\n"
       ]
      }
     ],
     "prompt_number": 13
    },
    {
     "cell_type": "code",
     "collapsed": false,
     "input": [
      "orange = M[0,3:5]\n",
      "print orange"
     ],
     "language": "python",
     "metadata": {},
     "outputs": [
      {
       "output_type": "stream",
       "stream": "stdout",
       "text": [
        "[ 3.  4.]\n"
       ]
      }
     ],
     "prompt_number": 14
    },
    {
     "cell_type": "code",
     "collapsed": false,
     "input": [
      "cyan = M[4:,4:]\n",
      "print cyan"
     ],
     "language": "python",
     "metadata": {},
     "outputs": [
      {
       "output_type": "stream",
       "stream": "stdout",
       "text": [
        "[[ 44.  45.]\n",
        " [ 54.  55.]]\n"
       ]
      }
     ],
     "prompt_number": 15
    },
    {
     "cell_type": "code",
     "collapsed": false,
     "input": [
      "green = M[2::2,::2]\n",
      "print green"
     ],
     "language": "python",
     "metadata": {},
     "outputs": [
      {
       "output_type": "stream",
       "stream": "stdout",
       "text": [
        "[[ 20.  22.  24.]\n",
        " [ 40.  42.  44.]]\n"
       ]
      }
     ],
     "prompt_number": 16
    },
    {
     "cell_type": "markdown",
     "metadata": {},
     "source": [
      "3) Use the *rand* function to generate a 3 x 3 matrix, N "
     ]
    },
    {
     "cell_type": "code",
     "collapsed": false,
     "input": [
      "N = rand(3,3)\n",
      "print N"
     ],
     "language": "python",
     "metadata": {},
     "outputs": [
      {
       "output_type": "stream",
       "stream": "stdout",
       "text": [
        "[[ 0.85210217  0.81369844  0.94996103]\n",
        " [ 0.64733884  0.94030581  0.84928998]\n",
        " [ 0.26180395  0.52776904  0.41076764]]\n"
       ]
      }
     ],
     "prompt_number": 17
    },
    {
     "cell_type": "markdown",
     "metadata": {},
     "source": [
      "4) Compute the eigenvalues and eigenvectors of N:"
     ]
    },
    {
     "cell_type": "code",
     "collapsed": false,
     "input": [
      "l,v = eig(N)\n",
      "print l,v"
     ],
     "language": "python",
     "metadata": {},
     "outputs": [
      {
       "output_type": "stream",
       "stream": "stdout",
       "text": [
        "[ 2.05072111  0.14422413  0.00823039] [[-0.69222284 -0.85651571 -0.5715891 ]\n",
        " [-0.64742229  0.18072251 -0.29920574]\n",
        " [-0.31886034  0.48344619  0.76404308]]\n"
       ]
      }
     ],
     "prompt_number": 18
    },
    {
     "cell_type": "markdown",
     "metadata": {},
     "source": [
      "5) Verify that $\\textrm{det}(N-\\lambda_1 I)=0$ where $\\lambda_1$ is the first eigenvalue of N:"
     ]
    },
    {
     "cell_type": "code",
     "collapsed": false,
     "input": [
      "l1 = l[0]\n",
      "I = eye(3)\n",
      "det(N-l1*I)"
     ],
     "language": "python",
     "metadata": {},
     "outputs": [
      {
       "metadata": {},
       "output_type": "pyout",
       "prompt_number": 20,
       "text": [
        "-3.1920240679446271e-15"
       ]
      }
     ],
     "prompt_number": 20
    },
    {
     "cell_type": "markdown",
     "metadata": {},
     "source": [
      "6) Verify that $N v_1 = \\lambda_1 v_1$ where $v_1$ is the first eigenvector of N:"
     ]
    },
    {
     "cell_type": "code",
     "collapsed": false,
     "input": [
      "v1 = v[:,0] #1st eigenvector is 1st column of v\n",
      "dot(N,v1) - l1*v1\n"
     ],
     "language": "python",
     "metadata": {},
     "outputs": [
      {
       "metadata": {},
       "output_type": "pyout",
       "prompt_number": 21,
       "text": [
        "array([  6.66133815e-16,   4.44089210e-16,   2.22044605e-16])"
       ]
      }
     ],
     "prompt_number": 21
    },
    {
     "cell_type": "code",
     "collapsed": false,
     "input": [],
     "language": "python",
     "metadata": {},
     "outputs": []
    }
   ],
   "metadata": {}
  }
 ]
}