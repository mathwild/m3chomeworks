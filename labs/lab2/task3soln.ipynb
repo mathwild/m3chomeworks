{
 "metadata": {
  "kernelspec": {
   "display_name": "Python 2",
   "language": "python",
   "name": "python2"
  },
  "language_info": {
   "codemirror_mode": {
    "name": "ipython",
    "version": 2
   },
   "file_extension": ".py",
   "mimetype": "text/x-python",
   "name": "python",
   "nbconvert_exporter": "python",
   "pygments_lexer": "ipython2",
   "version": "2.7.9"
  },
  "name": "",
  "signature": "sha256:100eb6b285b699dbbefdd461b726af97270a9922c11f0e32a36e93008ec9f4d3"
 },
 "nbformat": 3,
 "nbformat_minor": 0,
 "worksheets": [
  {
   "cells": [
    {
     "cell_type": "markdown",
     "metadata": {},
     "source": [
      "## Task 3: practice with loops\n",
      "***\n"
     ]
    },
    {
     "cell_type": "markdown",
     "metadata": {},
     "source": [
      "1) Write a while loop which stores the first $n$ odd integers in a list, $L$. You will first need to initialize an empty list, $L=[~]$ and set the value of $n$. You may also want to initialize a counter, $count=0$"
     ]
    },
    {
     "cell_type": "code",
     "collapsed": false,
     "input": [
      "L = []\n",
      "n = 8\n",
      "count=0\n",
      "while count < n:\n",
      "    L = L + [2*count+1]\n",
      "    count = count + 1\n",
      "print L\n"
     ],
     "language": "python",
     "metadata": {},
     "outputs": [
      {
       "output_type": "stream",
       "stream": "stdout",
       "text": [
        "[1, 3, 5, 7, 9, 11, 13, 15]\n"
       ]
      }
     ],
     "prompt_number": 3
    },
    {
     "cell_type": "markdown",
     "metadata": {},
     "source": [
      "2) Now add an if-else block around the while loop which checks if n is positive. If n is not positive, print an error message."
     ]
    },
    {
     "cell_type": "code",
     "collapsed": false,
     "input": [
      "L = []\n",
      "n = 8\n",
      "count=0\n",
      "if n>0:\n",
      "    while count < n:\n",
      "        L = L + [2*count+1]\n",
      "        count = count + 1\n",
      "    print L\n",
      "else:\n",
      "    print \"n must be positive\"\n"
     ],
     "language": "python",
     "metadata": {},
     "outputs": [
      {
       "output_type": "stream",
       "stream": "stdout",
       "text": [
        "[1, 3, 5, 7, 9, 11, 13, 15]\n"
       ]
      }
     ],
     "prompt_number": 4
    },
    {
     "cell_type": "markdown",
     "metadata": {},
     "source": [
      "3) Write a for loop which computes the sum, $S$, of the elements in $L$. You should first initialize the sum, $S=0.0$"
     ]
    },
    {
     "cell_type": "code",
     "collapsed": false,
     "input": [
      "sum = 0.0\n",
      "for i in L:\n",
      "    sum = sum + i\n",
      "    print \"i=%d,sum=%4.1f\" %(i,sum)\n",
      "print \"sum=\",sum"
     ],
     "language": "python",
     "metadata": {},
     "outputs": [
      {
       "output_type": "stream",
       "stream": "stdout",
       "text": [
        "i=1,sum= 1.0\n",
        "i=3,sum= 4.0\n",
        "i=5,sum= 9.0\n",
        "i=7,sum=16.0\n",
        "i=9,sum=25.0\n",
        "i=11,sum=36.0\n",
        "i=13,sum=49.0\n",
        "i=15,sum=64.0\n",
        "sum= 64.0\n"
       ]
      }
     ],
     "prompt_number": 5
    },
    {
     "cell_type": "code",
     "collapsed": false,
     "input": [],
     "language": "python",
     "metadata": {},
     "outputs": [],
     "prompt_number": 5
    }
   ],
   "metadata": {}
  }
 ]
}